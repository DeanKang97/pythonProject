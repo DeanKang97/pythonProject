{
 "cells": [
  {
   "cell_type": "code",
   "execution_count": 4,
   "metadata": {},
   "outputs": [],
   "source": [
    "# import numpy as np #판다스 친구 넘파이\n",
    "# import pandas as pd # 판다스\n",
    "# import re # 정규식 사용을 위함\n",
    "# import nltk # 오늘의 히어로\n",
    "# import csv # 원래 파일이 csv\n",
    "# import openpyxl # 저장할 때 엑셀로 저장하고 싶었다\n",
    "# import re"
   ]
  },
  {
   "cell_type": "code",
   "execution_count": 6,
   "metadata": {},
   "outputs": [
    {
     "data": {
      "text/plain": [
       "(67, 4)"
      ]
     },
     "execution_count": 6,
     "metadata": {},
     "output_type": "execute_result"
    }
   ],
   "source": [
    "import pandas as pd # 판다스\n",
    "data = pd.read_csv(r'D:\\Workspace\\PC_python\\reviews.csv') #대상 데이터 로딩\n",
    "data\n",
    "\n",
    "data.shape #데이터프레임의 열과 행 수 출력"
   ]
  },
  {
   "cell_type": "code",
   "execution_count": 7,
   "metadata": {},
   "outputs": [
    {
     "data": {
      "text/html": [
       "<div>\n",
       "<style scoped>\n",
       "    .dataframe tbody tr th:only-of-type {\n",
       "        vertical-align: middle;\n",
       "    }\n",
       "\n",
       "    .dataframe tbody tr th {\n",
       "        vertical-align: top;\n",
       "    }\n",
       "\n",
       "    .dataframe thead th {\n",
       "        text-align: right;\n",
       "    }\n",
       "</style>\n",
       "<table border=\"1\" class=\"dataframe\">\n",
       "  <thead>\n",
       "    <tr style=\"text-align: right;\">\n",
       "      <th></th>\n",
       "      <th>No.</th>\n",
       "      <th>평점</th>\n",
       "      <th>작성시간</th>\n",
       "      <th>리뷰내용</th>\n",
       "    </tr>\n",
       "  </thead>\n",
       "  <tbody>\n",
       "    <tr>\n",
       "      <th>0</th>\n",
       "      <td>1</td>\n",
       "      <td>5</td>\n",
       "      <td>19.12.29.</td>\n",
       "      <td>신세계몰에서 구입하고 온라인 신청서 작성하고 해피콜 받아서 확인한 후 기기 잘 받아...</td>\n",
       "    </tr>\n",
       "    <tr>\n",
       "      <th>1</th>\n",
       "      <td>2</td>\n",
       "      <td>5</td>\n",
       "      <td>20.01.10.</td>\n",
       "      <td>아이폰11 민트색상 받았습니다. 문자도 여러번 안내 주시고 친절하게 응대해주셨구요 ...</td>\n",
       "    </tr>\n",
       "    <tr>\n",
       "      <th>2</th>\n",
       "      <td>3</td>\n",
       "      <td>5</td>\n",
       "      <td>20.02.23.</td>\n",
       "      <td>테크노마트 이런곳 찾아가서 구입하기 귀찮음 + 저렴한 핸드폰 발견! 으로 구입하게 ...</td>\n",
       "    </tr>\n",
       "    <tr>\n",
       "      <th>3</th>\n",
       "      <td>4</td>\n",
       "      <td>5</td>\n",
       "      <td>20.02.07.</td>\n",
       "      <td>주문하고 나서, 화이트는 인기색상이라 오래기다려야 한다구 하셔서 아예 마음을 비우고...</td>\n",
       "    </tr>\n",
       "    <tr>\n",
       "      <th>4</th>\n",
       "      <td>5</td>\n",
       "      <td>5</td>\n",
       "      <td>20.03.10.</td>\n",
       "      <td>2월 25일 주문하고 다음 날 해피콜 후 화이트로 배송 받았습니다. 중간에 문의 전...</td>\n",
       "    </tr>\n",
       "    <tr>\n",
       "      <th>...</th>\n",
       "      <td>...</td>\n",
       "      <td>...</td>\n",
       "      <td>...</td>\n",
       "      <td>...</td>\n",
       "    </tr>\n",
       "    <tr>\n",
       "      <th>62</th>\n",
       "      <td>63</td>\n",
       "      <td>5</td>\n",
       "      <td>19.12.28.</td>\n",
       "      <td>빠른 배송 좋아요   물건 잘 받았습니다</td>\n",
       "    </tr>\n",
       "    <tr>\n",
       "      <th>63</th>\n",
       "      <td>64</td>\n",
       "      <td>5</td>\n",
       "      <td>19.11.13.</td>\n",
       "      <td>배송 속도는 뭐 괜찮았아요 생각보다 빨리왔고 사은품 케이스랑 필름은 별로에요 지문 ...</td>\n",
       "    </tr>\n",
       "    <tr>\n",
       "      <th>64</th>\n",
       "      <td>65</td>\n",
       "      <td>5</td>\n",
       "      <td>20.01.15.</td>\n",
       "      <td>좋아요 짱 좋아요 아이폰 좋아요</td>\n",
       "    </tr>\n",
       "    <tr>\n",
       "      <th>65</th>\n",
       "      <td>66</td>\n",
       "      <td>5</td>\n",
       "      <td>20.01.15.</td>\n",
       "      <td>좋 좋 좋 좋아요 짱 좋좋좋아요</td>\n",
       "    </tr>\n",
       "    <tr>\n",
       "      <th>66</th>\n",
       "      <td>67</td>\n",
       "      <td>5</td>\n",
       "      <td>19.10.29.</td>\n",
       "      <td>받자마자 상품평 남겨요. 오래 걸릴 줄 알았는데 생각보다 빨리 받았어요~~ 색상 고...</td>\n",
       "    </tr>\n",
       "  </tbody>\n",
       "</table>\n",
       "<p>67 rows × 4 columns</p>\n",
       "</div>"
      ],
      "text/plain": [
       "    No.  평점       작성시간                                               리뷰내용\n",
       "0     1   5  19.12.29.  신세계몰에서 구입하고 온라인 신청서 작성하고 해피콜 받아서 확인한 후 기기 잘 받아...\n",
       "1     2   5  20.01.10.  아이폰11 민트색상 받았습니다. 문자도 여러번 안내 주시고 친절하게 응대해주셨구요 ...\n",
       "2     3   5  20.02.23.  테크노마트 이런곳 찾아가서 구입하기 귀찮음 + 저렴한 핸드폰 발견! 으로 구입하게 ...\n",
       "3     4   5  20.02.07.  주문하고 나서, 화이트는 인기색상이라 오래기다려야 한다구 하셔서 아예 마음을 비우고...\n",
       "4     5   5  20.03.10.  2월 25일 주문하고 다음 날 해피콜 후 화이트로 배송 받았습니다. 중간에 문의 전...\n",
       "..  ...  ..        ...                                                ...\n",
       "62   63   5  19.12.28.                             빠른 배송 좋아요   물건 잘 받았습니다\n",
       "63   64   5  19.11.13.  배송 속도는 뭐 괜찮았아요 생각보다 빨리왔고 사은품 케이스랑 필름은 별로에요 지문 ...\n",
       "64   65   5  20.01.15.                                  좋아요 짱 좋아요 아이폰 좋아요\n",
       "65   66   5  20.01.15.                                  좋 좋 좋 좋아요 짱 좋좋좋아요\n",
       "66   67   5  19.10.29.  받자마자 상품평 남겨요. 오래 걸릴 줄 알았는데 생각보다 빨리 받았어요~~ 색상 고...\n",
       "\n",
       "[67 rows x 4 columns]"
      ]
     },
     "execution_count": 7,
     "metadata": {},
     "output_type": "execute_result"
    }
   ],
   "source": [
    "data"
   ]
  },
  {
   "cell_type": "code",
   "execution_count": 8,
   "metadata": {},
   "outputs": [
    {
     "data": {
      "text/plain": [
       "0     신세계몰에서 구입하고 온라인 신청서 작성하고 해피콜 받아서 확인한 후 기기 잘 받아...\n",
       "1     아이폰11 민트색상 받았습니다. 문자도 여러번 안내 주시고 친절하게 응대해주셨구요 ...\n",
       "2     테크노마트 이런곳 찾아가서 구입하기 귀찮음 + 저렴한 핸드폰 발견! 으로 구입하게 ...\n",
       "3     주문하고 나서, 화이트는 인기색상이라 오래기다려야 한다구 하셔서 아예 마음을 비우고...\n",
       "4     2월 25일 주문하고 다음 날 해피콜 후 화이트로 배송 받았습니다. 중간에 문의 전...\n",
       "                            ...                        \n",
       "62                               빠른 배송 좋아요   물건 잘 받았습니다\n",
       "63    배송 속도는 뭐 괜찮았아요 생각보다 빨리왔고 사은품 케이스랑 필름은 별로에요 지문 ...\n",
       "64                                    좋아요 짱 좋아요 아이폰 좋아요\n",
       "65                                    좋 좋 좋 좋아요 짱 좋좋좋아요\n",
       "66    받자마자 상품평 남겨요. 오래 걸릴 줄 알았는데 생각보다 빨리 받았어요~~ 색상 고...\n",
       "Name: 리뷰내용, Length: 67, dtype: object"
      ]
     },
     "execution_count": 8,
     "metadata": {},
     "output_type": "execute_result"
    }
   ],
   "source": [
    "data['리뷰내용']#리뷰내용 확인"
   ]
  },
  {
   "cell_type": "code",
   "execution_count": 9,
   "metadata": {},
   "outputs": [
    {
     "data": {
      "text/plain": [
       "67"
      ]
     },
     "execution_count": 9,
     "metadata": {},
     "output_type": "execute_result"
    }
   ],
   "source": [
    "len(data) # 리뷰 개수"
   ]
  },
  {
   "cell_type": "code",
   "execution_count": 10,
   "metadata": {},
   "outputs": [
    {
     "name": "stdout",
     "output_type": "stream",
     "text": [
      "아이폰 11 민트 색상 받았습니다. 문자도 여러 번 안내 주시고 친절하게 응대해주셨고요 128기가 할까 말까 고민 많이 했어요. 구매 시 블랙, 레드, 옐로 가능했는데,,,, 퍼플 했다가 좀 기다렸습니다.  원하는 퍼플 색상이 많이 지연되어서 색상 안내도 문자로 여러 번 해주시더라고요  결국 빨리 받을 생각에 민트로 변경하여 받았는데 해피콜 때도 여러 번 확인하더라고요   핸드폰 6s 쓰다가 넘어와서 만족도가 정말 커요. 폰이 정말 빨라졌어요 64기가 싸게 샀어요~ 대리점 발품 팔아서 몇만 원 더 싸게 사는 방법도 있다고 하던데 이게 더 편하고 결국 몇만 원 차이 안 나더라고요 훨씬 편하게 최신폰 받았어요.. 개통도 폰이 끊어지는 시점에서 폰이 먼저 와있는 상태여서 바로 유심 끼고 개통했습니다.  우체국 택배여서 안전하게 왔고요 당장 쓸 케이스도 주셔서 잘 받았어요 강화유리 없는 건 좀 아쉬웠지만 액정보호필름까지 들어있더라고요, 의무가입기간 요금제 유지기간 다 자세히 설명해줍니다. . 감사합니다^^\n"
     ]
    }
   ],
   "source": [
    "#네이버 한글 맞춤법 검사기를 바탕으로 만들어진 패키지 \n",
    "from hanspell import spell_checker \n",
    "#왜 data['리뷰내용'][0]만 안되는지 1도 모르겠다....\n",
    "spelled_sent = spell_checker.check(data['리뷰내용'][1])\n",
    "hanspell_sent = spelled_sent.checked\n",
    "print(hanspell_sent)"
   ]
  },
  {
   "cell_type": "code",
   "execution_count": 11,
   "metadata": {},
   "outputs": [
    {
     "name": "stdout",
     "output_type": "stream",
     "text": [
      "['아이폰', '11', '민트', '색상', '받았습니다', '.', '문자', '도', '여러', '번', '안내', '주시', '고', '친절하게', '응대', '해주셨고요', '128', '기', '가', '할까', '말까', '고민', '많이', '했어요', '.', '구매', '시', '블랙', ',', '레드', ',', '옐로', '가능했는데', ',,,,', '퍼플', '했다가', '좀', '기다렸습니다', '.', '원하는', '퍼플', '색상', '이', '많이', '지연', '되어서', '색상', '안내', '도', '문자', '로', '여러', '번', '해주시더라고요', '결국', '빨리', '받을', '생각', '에', '민트', '로', '변경', '하여', '받았는데', '해피', '콜', '때', '도', '여러', '번', '확인', '하더라고요', '핸드폰', '6', 's', '쓰다가', '넘어와서', '만족도', '가', '정말', '커요', '.', '폰', '이', '정말', '빨라졌어요', '64', '기', '가', '싸게', '샀어요', '~', '대리점', '발품', '팔아서', '몇', '만', '원', '더', '싸게', '사는', '방법', '도', '있다고', '하던데', '이', '게', '더', '편하고', '결국', '몇', '만', '원', '차이', '안', '나더라고요', '훨씬', '편하게', '최신', '폰', '받았어요', '..', '개통', '도', '폰', '이', '끊어지는', '시점', '에서', '폰', '이', '먼저', '와있는', '상태', '여서', '바로', '유심', '끼', '고', '개통', '했습니다', '.', '우체국', '택배', '여서', '안전하게', '왔고요', '당장', '쓸', '케이스', '도', '주셔서', '잘', '받았어요', '강화유리', '없는', '건', '좀', '아쉬웠지만', '액정', '보호', '필름', '까지', '들어있더라고요', ',', '의무', '가입', '기간', '요', '금제', '유지', '기간', '다', '자세히', '설명', '해줍니다', '.', '.', '감사합니다', '^^']\n"
     ]
    }
   ],
   "source": [
    "#Okt 형태소 분석기 사용 , 분석기별 비교: https://mr-doosun.tistory.com/22\n",
    "from konlpy.tag import Okt  \n",
    "okt=Okt()  \n",
    "print(okt.morphs(hanspell_sent))"
   ]
  },
  {
   "cell_type": "code",
   "execution_count": null,
   "metadata": {},
   "outputs": [],
   "source": []
  }
 ],
 "metadata": {
  "kernelspec": {
   "display_name": "Python 3",
   "language": "python",
   "name": "python3"
  },
  "language_info": {
   "codemirror_mode": {
    "name": "ipython",
    "version": 3
   },
   "file_extension": ".py",
   "mimetype": "text/x-python",
   "name": "python",
   "nbconvert_exporter": "python",
   "pygments_lexer": "ipython3",
   "version": "3.8.5"
  }
 },
 "nbformat": 4,
 "nbformat_minor": 4
}